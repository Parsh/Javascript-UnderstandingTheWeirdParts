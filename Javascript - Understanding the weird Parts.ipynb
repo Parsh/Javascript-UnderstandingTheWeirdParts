{
 "cells": [
  {
   "cell_type": "markdown",
   "metadata": {},
   "source": [
    "# Execution Contexts and Lexical Environments\n",
    "\n",
    "## Conceptual Aside: Syntax Parsers, Execution Context and Lexical Environments\n",
    "\n",
    "### Syntax Parser\n",
    "![](./Images/SyntaxParser.png)\n",
    "\n",
    "In computer technology, **a parser is a program, usually part of a compiler, that receives input in the form of sequential source program instructions**, interactive online commands, markup tags, or some other defined interface **and breaks them up into parts (for example, the nouns (objects), verbs (methods), and their attributes or options) that can then be managed by other components** (for example, other components in a compiler). A parser may also check to see that all input has been provided that is necessary.\n",
    "\n",
    "## Lexical Environment\n",
    "![](./Images/LexicalEnvironment.png)\n",
    "\n",
    "When we talk about lexical environment for a given piece of code, say a function, we are basically talking about where that piece of code is written and what surrounds it. This is what compilers/interpreters takes into consideration while parsing the code.\n",
    "\n",
    "### Execution Context\n",
    "![](./Images/ExecutionContext.png)\n",
    "\n",
    "Note that execution context not only just wraps the code that's running but it also contain code, injected by the execution engine (compiler/interpreter), beyond what we have provided. \n"
   ]
  },
  {
   "cell_type": "code",
   "execution_count": null,
   "metadata": {},
   "outputs": [],
   "source": []
  }
 ],
 "metadata": {
  "kernelspec": {
   "display_name": "Python 3",
   "language": "python",
   "name": "python3"
  },
  "language_info": {
   "codemirror_mode": {
    "name": "ipython",
    "version": 3
   },
   "file_extension": ".py",
   "mimetype": "text/x-python",
   "name": "python",
   "nbconvert_exporter": "python",
   "pygments_lexer": "ipython3",
   "version": "3.6.5"
  },
  "toc": {
   "base_numbering": 1,
   "nav_menu": {},
   "number_sections": false,
   "sideBar": true,
   "skip_h1_title": false,
   "title_cell": "Table of Contents",
   "title_sidebar": "Contents",
   "toc_cell": false,
   "toc_position": {},
   "toc_section_display": true,
   "toc_window_display": false
  }
 },
 "nbformat": 4,
 "nbformat_minor": 2
}
